{
  "nbformat": 4,
  "nbformat_minor": 0,
  "metadata": {
    "colab": {
      "provenance": [],
      "authorship_tag": "ABX9TyNHcjg2GWD8WHWxDhcK1H+x",
      "include_colab_link": true
    },
    "kernelspec": {
      "name": "python3",
      "display_name": "Python 3"
    },
    "language_info": {
      "name": "python"
    }
  },
  "cells": [
    {
      "cell_type": "markdown",
      "metadata": {
        "id": "view-in-github",
        "colab_type": "text"
      },
      "source": [
        "<a href=\"https://colab.research.google.com/github/eduardoaugustoabc/parse_pdf_to_markdown/blob/main/pdf_to_markdown.ipynb\" target=\"_parent\"><img src=\"https://colab.research.google.com/assets/colab-badge.svg\" alt=\"Open In Colab\"/></a>"
      ]
    },
    {
      "cell_type": "code",
      "execution_count": null,
      "metadata": {
        "id": "ETq9vmfq1LXo"
      },
      "outputs": [],
      "source": [
        "%pip install llama-parse"
      ]
    },
    {
      "cell_type": "code",
      "source": [
        "import nest_asyncio\n",
        "\n",
        "nest_asyncio.apply()"
      ],
      "metadata": {
        "id": "-6LqW1Br4Pbx"
      },
      "execution_count": null,
      "outputs": []
    },
    {
      "cell_type": "code",
      "source": [
        "import os\n",
        "\n",
        "os.environ[\"LLAMA_CLOUD_API_KEY\"] = \"your_api_key\""
      ],
      "metadata": {
        "id": "aQkEgS6q4cfK"
      },
      "execution_count": null,
      "outputs": []
    },
    {
      "cell_type": "code",
      "source": [
        "from llama_parse import LlamaParse\n",
        "\n",
        "document1 = LlamaParse(result_type=\"markdown\").load_data(\"example1\")\n",
        "document2 = LlamaParse(result_type=\"markdown\").load_data(\"example2\")\n",
        "document3 = LlamaParse(result_type=\"markdown\").load_data(\"example3\")\n",
        "document4 = LlamaParse(result_type=\"markdown\").load_data(\"example4\")\n",
        "document5 = LlamaParse(result_type=\"markdown\").load_data(\"example5\")"
      ],
      "metadata": {
        "colab": {
          "base_uri": "https://localhost:8080/"
        },
        "id": "jaSgCAY95foh",
        "outputId": "c8b757b7-8899-455d-bbed-36d46aecd304"
      },
      "execution_count": null,
      "outputs": [
        {
          "output_type": "stream",
          "name": "stdout",
          "text": [
            "Started parsing the file under job_id c257ab67-87e0-4f46-b258-9a727d0a4131\n",
            "Started parsing the file under job_id 993f8091-ebfc-43c2-9f58-dfe3a4a9e6c4\n",
            "Started parsing the file under job_id 440daf40-db72-45ae-bc6c-3270b43ff96b\n",
            "Started parsing the file under job_id c34e6221-c0f6-4803-8f0e-a718dc6e7fa1\n",
            "Started parsing the file under job_id b108a18e-b8c1-4ffd-8923-75ec35baa863\n"
          ]
        }
      ]
    },
    {
      "cell_type": "code",
      "source": [
        "print(document3[0].text)"
      ],
      "metadata": {
        "colab": {
          "base_uri": "https://localhost:8080/"
        },
        "id": "YlnYfPJU6w2g",
        "outputId": "698b7496-0373-450b-c7f8-13033293ac0f"
      },
      "execution_count": null,
      "outputs": [
        {
          "output_type": "stream",
          "name": "stdout",
          "text": [
            "# Onboarding a New Service\n",
            "\n",
            "|Document Status|COMPLETE|\n",
            "|---|---|\n",
            "|Document Owner|Sarangi, Suraj|\n",
            "|Target Readers|Backend Developers|\n",
            "\n",
            "# Description\n",
            "\n",
            "This document is helpful for onboarding a new service to the MFG BOM CM Adapter services architecture. The following points should be taken care of while onboarding a new service:\n",
            "\n",
            "- Creating a service in the MFG BOM level in Gitlab.\n",
            "- Adding the environment variables in the Gitlab settings.\n",
            "- Onboarding the project into blackduck to ensure good devops scores.\n",
            "- Having the same parent pom for all the uip services.\n",
            "- Adding the manifest-{environment}.yml files for all the environments.\n",
            "- Adding the application-{environment}.properties for all the environment that have varied configurations.\n",
            "- Mapping the service in config server for MFG BOM to avoid Cross Origin Error.\n",
            "\n",
            "It is advisable to make the first commit only after ensuring the above steps and creating the necessary release and feature branches with the month and the year of prod deployment and validation of the service.\n",
            "\n",
            "# Creating a Service\n",
            "\n",
            "The project needs to be added at this level in Gitlab:\n",
            "\n",
            "MFG-BOM · GitLab (dell.com)\n",
            "\n",
            "# Initializing a Spring Boot Service\n",
            "\n",
            "The initial project should be downloaded as a zip from Spring Initializr.\n",
            "\n",
            "For convenience, the following values should be used while initializing the project:\n",
            "\n",
            "|Project|Maven|\n",
            "|---|---|\n",
            "|Language|Java|\n",
            "|Spring Boot version|Pre Selected|\n",
            "|Group|com.dell.prism|\n",
            "|Artifact|Name of the Project|\n",
            "|Packaging|Jar|\n",
            "|Java Version|8|\n",
            "\n",
            "Dependencies can be added from here, or can be added later on from the pom file for the project.\n"
          ]
        }
      ]
    },
    {
      "cell_type": "code",
      "source": [
        "file_name = \"arquivo_novo.md\"\n",
        "with open(file_name, \"w\") as file:\n",
        "    file.write(document3[0].text)"
      ],
      "metadata": {
        "id": "b_GcBi_P9HcR"
      },
      "execution_count": null,
      "outputs": []
    }
  ]
}
